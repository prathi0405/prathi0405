{
 "cells": [
  {
   "cell_type": "markdown",
   "id": "bd6afa94",
   "metadata": {},
   "source": [
    "## Fetching Dataset"
   ]
  },
  {
   "cell_type": "code",
   "execution_count": 37,
   "id": "b91a3f35",
   "metadata": {},
   "outputs": [],
   "source": [
    "from sklearn.datasets import fetch_openml\n",
    "mnist = fetch_openml('mnist_784')"
   ]
  },
  {
   "cell_type": "code",
   "execution_count": 38,
   "id": "889c5f68",
   "metadata": {},
   "outputs": [],
   "source": [
    "x,y = mnist[\"data\"], mnist['target']"
   ]
  },
  {
   "cell_type": "code",
   "execution_count": 39,
   "id": "a7d66f9d",
   "metadata": {},
   "outputs": [
    {
     "data": {
      "text/plain": [
       "(70000, 784)"
      ]
     },
     "execution_count": 39,
     "metadata": {},
     "output_type": "execute_result"
    }
   ],
   "source": [
    "x.shape"
   ]
  },
  {
   "cell_type": "code",
   "execution_count": 40,
   "id": "b84af826",
   "metadata": {},
   "outputs": [
    {
     "data": {
      "text/plain": [
       "(70000,)"
      ]
     },
     "execution_count": 40,
     "metadata": {},
     "output_type": "execute_result"
    }
   ],
   "source": [
    "y.shape"
   ]
  },
  {
   "cell_type": "code",
   "execution_count": 41,
   "id": "91e1fb9e",
   "metadata": {},
   "outputs": [],
   "source": [
    "%matplotlib inline"
   ]
  },
  {
   "cell_type": "code",
   "execution_count": 42,
   "id": "bd0adf74",
   "metadata": {},
   "outputs": [],
   "source": [
    "import matplotlib\n",
    "import matplotlib.pyplot as plt"
   ]
  },
  {
   "cell_type": "code",
   "execution_count": 43,
   "id": "811dd341",
   "metadata": {},
   "outputs": [],
   "source": [
    "import numpy as np\n",
    "some_digit = np.array(x.iloc[36001])\n",
    "some_digit_image = some_digit.reshape(28,28)#lets reshape it to plot it"
   ]
  },
  {
   "cell_type": "code",
   "execution_count": 44,
   "id": "e1ba631c",
   "metadata": {},
   "outputs": [
    {
     "data": {
      "text/plain": [
       "(-0.5, 27.5, 27.5, -0.5)"
      ]
     },
     "execution_count": 44,
     "metadata": {},
     "output_type": "execute_result"
    },
    {
     "data": {
      "image/png": "[encoded data removed]",
      "text/plain": [
       "<Figure size 432x288 with 1 Axes>"
      ]
     },
     "metadata": {
      "needs_background": "light"
     },
     "output_type": "display_data"
    }
   ],
   "source": [
    "plt.imshow(some_digit_image, cmap=matplotlib.cm.binary, interpolation=\"nearest\")\n",
    "plt.axis(\"off\")"
   ]
  },
  {
   "cell_type": "code",
   "execution_count": 45,
   "id": "ddb2bca2",
   "metadata": {},
   "outputs": [
    {
     "data": {
      "text/plain": [
       "'2'"
      ]
     },
     "execution_count": 45,
     "metadata": {},
     "output_type": "execute_result"
    }
   ],
   "source": [
    "y[36001]"
   ]
  },
  {
   "cell_type": "code",
   "execution_count": 46,
   "id": "bc055807",
   "metadata": {},
   "outputs": [],
   "source": [
    "x_train, x_test = x[:60000], x[60000:70000]"
   ]
  },
  {
   "cell_type": "code",
   "execution_count": 47,
   "id": "152f0d9d",
   "metadata": {},
   "outputs": [],
   "source": [
    "y_train, y_test = y[:60000], y[60000:70000]"
   ]
  },
  {
   "cell_type": "code",
   "execution_count": 48,
   "id": "1708d156",
   "metadata": {},
   "outputs": [],
   "source": [
    "shuffle_index = np.random.permutation(60000)\n",
    "x_train = x_train.iloc[shuffle_index]\n",
    "y_train = y_train.iloc[shuffle_index]"
   ]
  },
  {
   "cell_type": "markdown",
   "id": "a3d70f78",
   "metadata": {},
   "source": [
    "## Creating a 2 detector"
   ]
  },
  {
   "cell_type": "code",
   "execution_count": 49,
   "id": "22c304b4",
   "metadata": {},
   "outputs": [],
   "source": [
    "y_train = y_train.astype(np.int8)\n",
    "y_test = y_test.astype(np.int8)\n",
    "y_train_2 = (y_train == 2)\n",
    "y_test_2 = (y_test == 2)"
   ]
  },
  {
   "cell_type": "code",
   "execution_count": 50,
   "id": "f2b51455",
   "metadata": {},
   "outputs": [
    {
     "data": {
      "text/plain": [
       "43626    4\n",
       "49473    1\n",
       "9486     6\n",
       "11668    9\n",
       "27548    2\n",
       "        ..\n",
       "27219    7\n",
       "37708    0\n",
       "9031     2\n",
       "5708     1\n",
       "31248    8\n",
       "Name: class, Length: 60000, dtype: int8"
      ]
     },
     "execution_count": 50,
     "metadata": {},
     "output_type": "execute_result"
    }
   ],
   "source": [
    "y_train"
   ]
  },
  {
   "cell_type": "code",
   "execution_count": 51,
   "id": "6bbd1046",
   "metadata": {},
   "outputs": [],
   "source": [
    "from sklearn.linear_model import LogisticRegression"
   ]
  },
  {
   "cell_type": "code",
   "execution_count": 52,
   "id": "a80add7f",
   "metadata": {},
   "outputs": [],
   "source": [
    "clf = LogisticRegression(tol = 0.1)"
   ]
  },
  {
   "cell_type": "code",
   "execution_count": 53,
   "id": "5cf57528",
   "metadata": {},
   "outputs": [
    {
     "name": "stderr",
     "output_type": "stream",
     "text": [
      "/Users/ads-7/opt/anaconda3/lib/python3.8/site-packages/sklearn/linear_model/_logistic.py:763: ConvergenceWarning: lbfgs failed to converge (status=1):\n",
      "STOP: TOTAL NO. of ITERATIONS REACHED LIMIT.\n",
      "\n",
      "Increase the number of iterations (max_iter) or scale the data as shown in:\n",
      "    https://scikit-learn.org/stable/modules/preprocessing.html\n",
      "Please also refer to the documentation for alternative solver options:\n",
      "    https://scikit-learn.org/stable/modules/linear_model.html#logistic-regression\n",
      "  n_iter_i = _check_optimize_result(\n"
     ]
    },
    {
     "data": {
      "text/plain": [
       "LogisticRegression(tol=0.1)"
      ]
     },
     "execution_count": 53,
     "metadata": {},
     "output_type": "execute_result"
    }
   ],
   "source": [
    "clf.fit(x_train,y_train_2)"
   ]
  },
  {
   "cell_type": "code",
   "execution_count": 54,
   "id": "df790bf7",
   "metadata": {},
   "outputs": [
    {
     "data": {
      "text/plain": [
       "array([ True])"
      ]
     },
     "execution_count": 54,
     "metadata": {},
     "output_type": "execute_result"
    }
   ],
   "source": [
    "clf.predict([some_digit])"
   ]
  },
  {
   "cell_type": "code",
   "execution_count": 55,
   "id": "f6c055bc",
   "metadata": {},
   "outputs": [
    {
     "name": "stderr",
     "output_type": "stream",
     "text": [
      "/Users/ads-7/opt/anaconda3/lib/python3.8/site-packages/sklearn/linear_model/_logistic.py:763: ConvergenceWarning: lbfgs failed to converge (status=1):\n",
      "STOP: TOTAL NO. of ITERATIONS REACHED LIMIT.\n",
      "\n",
      "Increase the number of iterations (max_iter) or scale the data as shown in:\n",
      "    https://scikit-learn.org/stable/modules/preprocessing.html\n",
      "Please also refer to the documentation for alternative solver options:\n",
      "    https://scikit-learn.org/stable/modules/linear_model.html#logistic-regression\n",
      "  n_iter_i = _check_optimize_result(\n",
      "/Users/ads-7/opt/anaconda3/lib/python3.8/site-packages/sklearn/linear_model/_logistic.py:763: ConvergenceWarning: lbfgs failed to converge (status=1):\n",
      "STOP: TOTAL NO. of ITERATIONS REACHED LIMIT.\n",
      "\n",
      "Increase the number of iterations (max_iter) or scale the data as shown in:\n",
      "    https://scikit-learn.org/stable/modules/preprocessing.html\n",
      "Please also refer to the documentation for alternative solver options:\n",
      "    https://scikit-learn.org/stable/modules/linear_model.html#logistic-regression\n",
      "  n_iter_i = _check_optimize_result(\n",
      "/Users/ads-7/opt/anaconda3/lib/python3.8/site-packages/sklearn/linear_model/_logistic.py:763: ConvergenceWarning: lbfgs failed to converge (status=1):\n",
      "STOP: TOTAL NO. of ITERATIONS REACHED LIMIT.\n",
      "\n",
      "Increase the number of iterations (max_iter) or scale the data as shown in:\n",
      "    https://scikit-learn.org/stable/modules/preprocessing.html\n",
      "Please also refer to the documentation for alternative solver options:\n",
      "    https://scikit-learn.org/stable/modules/linear_model.html#logistic-regression\n",
      "  n_iter_i = _check_optimize_result(\n"
     ]
    }
   ],
   "source": [
    "from sklearn.model_selection import cross_val_score\n",
    "a = cross_val_score(clf, x_train , y_train_2, cv = 3, scoring=\"accuracy\")"
   ]
  },
  {
   "cell_type": "code",
   "execution_count": 56,
   "id": "1b7cd888",
   "metadata": {},
   "outputs": [
    {
     "data": {
      "text/plain": [
       "array([0.97855, 0.97875, 0.97835])"
      ]
     },
     "execution_count": 56,
     "metadata": {},
     "output_type": "execute_result"
    }
   ],
   "source": [
    "a"
   ]
  },
  {
   "cell_type": "code",
   "execution_count": 57,
   "id": "2794eccc",
   "metadata": {},
   "outputs": [
    {
     "data": {
      "text/plain": [
       "0.9785499999999999"
      ]
     },
     "execution_count": 57,
     "metadata": {},
     "output_type": "execute_result"
    }
   ],
   "source": [
    "a.mean()"
   ]
  },
  {
   "cell_type": "code",
   "execution_count": 58,
   "id": "b053b458",
   "metadata": {},
   "outputs": [],
   "source": [
    "\n",
    "import numpy as np\n"
   ]
  },
  {
   "cell_type": "code",
   "execution_count": 59,
   "id": "5a024d1e",
   "metadata": {},
   "outputs": [],
   "source": [
    "x_train = x_train.to_numpy()\n",
    "x_test = x_test.to_numpy()\n",
    "y_test = y_test.to_numpy()\n",
    "y_train = y_train.to_numpy()"
   ]
  },
  {
   "cell_type": "markdown",
   "id": "7aad0555",
   "metadata": {},
   "source": [
    "## SVM Classification"
   ]
  },
  {
   "cell_type": "code",
   "execution_count": 60,
   "id": "e262e192",
   "metadata": {},
   "outputs": [],
   "source": [
    "from sklearn.svm import SVC\n",
    "classifier2 = SVC()"
   ]
  },
  {
   "cell_type": "code",
   "execution_count": 61,
   "id": "fea6a877",
   "metadata": {},
   "outputs": [],
   "source": [
    "classifier2 = classifier2.fit(np.array(x).reshape(x.shape[0], 28*28), y)\n",
    "y_pred2 = classifier2.predict(np.array(x_test).reshape(x_test.shape[0],28*28))"
   ]
  },
  {
   "cell_type": "markdown",
   "id": "74b9c6ef",
   "metadata": {},
   "source": [
    "## Results"
   ]
  },
  {
   "cell_type": "code",
   "execution_count": 62,
   "id": "25bc3498",
   "metadata": {},
   "outputs": [
    {
     "data": {
      "text/plain": [
       "['SVC_model.gzip']"
      ]
     },
     "execution_count": 62,
     "metadata": {},
     "output_type": "execute_result"
    }
   ],
   "source": [
    "import joblib\n",
    "joblib.dump(classifier2, 'SVC_model.gzip', compress=('gzip',3))"
   ]
  },
  {
   "cell_type": "code",
   "execution_count": 63,
   "id": "9ecc6854",
   "metadata": {},
   "outputs": [],
   "source": [
    "from tkinter import * \n",
    "import tkinter as tk\n",
    "from PIL import Image, ImageGrab, ImageOps\n",
    "import numpy as np\n",
    "import joblib"
   ]
  },
  {
   "cell_type": "code",
   "execution_count": 64,
   "id": "96e2680c",
   "metadata": {},
   "outputs": [],
   "source": [
    "classifier2 = joblib.load('SVC_model.gzip')"
   ]
  },
  {
   "cell_type": "code",
   "execution_count": 65,
   "id": "41736c18",
   "metadata": {},
   "outputs": [],
   "source": [
    "class GUI(tk.Tk):\n",
    "    def __init__(self):\n",
    "        tk.Tk.__init__(self)\n",
    "        self.canvas_width = 200\n",
    "        self.canvas_height = 200\n",
    "        self.bg_color = \"White\"\n",
    "        self.paint_color = \"black\"\n",
    "        self.radius = 5\n",
    "        self.init_canvas()\n",
    "        \n",
    "    def init_canvas(self):\n",
    "        self.canvas = Canvas(self, width=self.canvas_width, height=self.canvas_width, bg = self.bg_color, cursor=\"cross\")\n",
    "        self.button_clear = tk.Button(self, text = \"Clear\", command = self.clear_all)\n",
    "        self.button_predict = tk.Button(self, text = \"Predict\", command = self.predict)\n",
    "        self.label_digit = tk.Label(self, text=\"\", font=(\"Helvetica\"))\n",
    "        self.canvas.grid(row=0, column=0, pady=2, sticky=W, )\n",
    "        self.button_clear.grid(row=1, column=0, pady=2)\n",
    "        self.button_predict.grid(row=1, column=1, pady=2)\n",
    "        self.label_digit.grid(row=0, column=1, padx=2, pady=2)\n",
    "        self.canvas.bind(\"<B1-Motion>\", self.paint)\n",
    "\n",
    "    def paint(self, event):\n",
    "        x1, y1 = (event.x - self.radius), (event.y - self.radius)\n",
    "        x2, y2 = (event.x + self.radius), (event.y + self.radius)\n",
    "        self.canvas.create_oval(x1, y1, x2, y2, fill=self.paint_color, outline=self.paint_color)\n",
    "\n",
    "    def clear_all(self):\n",
    "        self.canvas.delete(\"all\")\n",
    "    \n",
    "    def preprocess(self):\n",
    "        fileName = 'canvas_paint'\n",
    "        \n",
    "        # Find Canvas Coordinates\n",
    "        x = self.canvas.winfo_x() + self.winfo_x() + 52\n",
    "        y = self.canvas.winfo_y() + self.winfo_y() + 77\n",
    "        x1 = x + self.canvas_width\n",
    "        y1 = y + self.canvas_height\n",
    "        \n",
    "        # Screenshot and Save Image in Canvas\n",
    "        img = ImageGrab.grab().crop((x,y,x1,y1))\n",
    "        img = img.convert('RGB')\n",
    "        img.save(fileName + \".jpg\")\n",
    "        \n",
    "        # Invert Image\n",
    "        img = ImageOps.invert(img)\n",
    "        img.save(fileName + \"_negative\" + \".jpg\")\n",
    "        \n",
    "        # Resize and convert it into greyscale\n",
    "        img = img.resize((28,28))\n",
    "        img = img.convert('L')\n",
    "        img.save(fileName + \"_28x28\" + \".jpg\")\n",
    "        \n",
    "        # Convert it into Numpy array\n",
    "        img = np.array(img)\n",
    "        img = img.reshape(28*28)\n",
    "        print(\"Pre Processing complete\")\n",
    "        return img\n",
    "    \n",
    "    def predict(self):\n",
    "        img = self.preprocess()\n",
    "        digit = classifier2.predict([img])\n",
    "        self.label_digit.configure(text=str(digit))"
   ]
  },
  {
   "cell_type": "code",
   "execution_count": 66,
   "id": "178f71b5",
   "metadata": {},
   "outputs": [],
   "source": [
    "app = GUI()\n",
    "mainloop()"
   ]
  },
  {
   "cell_type": "code",
   "execution_count": null,
   "id": "b24317d1",
   "metadata": {},
   "outputs": [],
   "source": []
  }
 ],
 "metadata": {
  "kernelspec": {
   "display_name": "Python 3 (ipykernel)",
   "language": "python",
   "name": "python3"
  },
  "language_info": {
   "codemirror_mode": {
    "name": "ipython",
    "version": 3
   },
   "file_extension": ".py",
   "mimetype": "text/x-python",
   "name": "python",
   "nbconvert_exporter": "python",
   "pygments_lexer": "ipython3",
   "version": "3.8.8"
  }
 },
 "nbformat": 4,
 "nbformat_minor": 5
}
